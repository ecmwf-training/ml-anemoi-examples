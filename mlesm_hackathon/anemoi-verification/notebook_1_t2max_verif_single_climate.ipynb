{
 "cells": [
  {
   "cell_type": "markdown",
   "id": "437e2449-65fd-4140-8ed5-b6b3e7dc22f2",
   "metadata": {},
   "source": [
    "# Noteboook for t2max verification with climate statistics\n",
    "## Verification of deterministic forecasts using climate percentiles\n",
    "(requires to run notebook_get_forecast_single.ipynb first if you want to assess your own set of forecasts)\n",
    "\n",
    "\n",
    "Assessing precipitation forecasts against observations using a local climatology for score computation. "
   ]
  },
  {
   "cell_type": "code",
   "execution_count": 1,
   "id": "ad00522f-38f8-44a8-bb8e-57297d322765",
   "metadata": {
    "scrolled": true
   },
   "outputs": [],
   "source": [
    "import time\n",
    "import datetime\n",
    "import numpy as np\n",
    "import pandas as pd\n",
    "import xarray as xr\n",
    "import matplotlib.pyplot as plt"
   ]
  },
  {
   "cell_type": "code",
   "execution_count": 2,
   "id": "e45af7a8-f3bd-4825-8144-841492238a06",
   "metadata": {},
   "outputs": [],
   "source": [
    "from utils.utils_data  import get_obs\n",
    "from utils.utils_data  import get_fct\n",
    "\n",
    "from utils.utils_data  import get_domain\n",
    "from utils.utils_stats  import get_weights\n",
    "\n",
    "from utils.utils_scores import get_CT\n",
    "from utils.utils_scores import get_score\n",
    "from utils.utils_plots  import plot_scores\n",
    "from utils.utils_plots  import plot_simple_scores"
   ]
  },
  {
   "cell_type": "markdown",
   "id": "fdc12eb6-f994-485d-ad16-87704aad3c4f",
   "metadata": {},
   "source": [
    "### 1. Settings"
   ]
  },
  {
   "cell_type": "code",
   "execution_count": 3,
   "id": "cc6e74a4-8856-4d79-a613-8ab8738a1fb1",
   "metadata": {},
   "outputs": [],
   "source": [
    "# where the data sit or will sit\n",
    "path_data     = \"/my/data/folder/seeps4all/\"\n",
    "path_data     = \"/ec/res4/scratch/mozb/hackathon/t2max\"\n",
    "path_data     = \"/perm/mozb/RODEO/SEEPS4ALL/DATA_TX/\"\n",
    "\n",
    "# forecasts\n",
    "name_forecasts = [\n",
    "                  \"fct_od_0001_t2max_europe_20231201_to_20240229_1200_ecad\",\n",
    "                  \"fct_ml_aifs_t2max_europe_20231201_to_20240229_1200_ecad\",\n",
    "                  \"fct_ml_dmgc_t2max_europe_20231201_to_20240229_1200_ecad\",\n",
    "                  \"fct_ml_pguw_t2max_europe_20231201_to_20240229_1200_ecad\"\n",
    "                 ]\n",
    "#name_forecasts = [\n",
    "#                  \"fct_od_0001_t2max_europe_20240301_to_20240531_1200_ecad\",\n",
    "#                  \"fct_ml_aifs_t2max_europe_20240301_to_20240531_1200_ecad\",\n",
    "#                  \"fct_ml_dmgc_t2max_europe_20240301_to_20240531_1200_ecad\",\n",
    "#                  \"fct_ml_pguw_t2max_europe_20240301_to_20240531_1200_ecad\"\n",
    "#                  \"fct_od_0001_t2max_europe_20240601_to_20240831_1200_ecad\",\n",
    "#                 ]\n",
    "#name_forecasts = [\n",
    "#                  \"fct_ml_aifs_t2max_europe_20240601_to_20240831_1200_ecad\",\n",
    "#                  \"fct_ml_dmgc_t2max_europe_20240601_to_20240831_1200_ecad\",\n",
    "#                  \"fct_ml_pguw_t2max_europe_20240601_to_20240831_1200_ecad\"\n",
    "#                 ]\n",
    "#name_forecasts = [\n",
    "#                  \"fct_od_0001_t2max_europe_20240901_to_20241130_1200_ecad\",\n",
    "#                  \"fct_ml_aifs_t2max_europe_20240901_to_20241130_1200_ecad\",\n",
    "#                  \"fct_ml_dmgc_t2max_europe_20240901_to_20241130_1200_ecad\",\n",
    "#                  \"fct_ml_pguw_t2max_europe_20240901_to_20241130_1200_ecad\"\n",
    "#                 ]\n",
    "\n",
    "# colours and names \n",
    "colors = [\"tab:red\",\"darkred\",\"tab:blue\",\"tab:purple\"]\n",
    "labels = [\"IFS\", \"AIFS\", \"GraphCast\", \"PanguWeather\" ]\n",
    "\n",
    "# ouput path and prefix\n",
    "prefig = \"./prefix\"\n"
   ]
  },
  {
   "cell_type": "markdown",
   "id": "551c0bb6-29c3-4b36-b36c-ddd62c4ce0d4",
   "metadata": {},
   "source": [
    "### 2. Read observations (+ metadata, + climate) and forecasts"
   ]
  },
  {
   "cell_type": "code",
   "execution_count": 4,
   "id": "28ebe11e-6545-4be6-a3e5-830c902dd869",
   "metadata": {},
   "outputs": [
    {
     "name": "stdout",
     "output_type": "stream",
     "text": [
      "open: /perm/mozb/RODEO/SEEPS4ALL/DATA_TX//obs_clim_t2max_2022_2024_ecad.zarr\n",
      "... total number of observation locations: 5165\n",
      ". get data from https://object-store.os-api.cci2.ecmwf.int\n"
     ]
    },
    {
     "ename": "FileNotFoundError",
     "evalue": "No such file or directory: 'https://object-store.os-api.cci2.ecmwf.int/ecmwf-rodeo-benchmark/seeps4all/fct_od_0001_t2max_europe_20231201_to_20240229_1200_ecad.zarr'",
     "output_type": "error",
     "traceback": [
      "\u001b[31m---------------------------------------------------------------------------\u001b[39m",
      "\u001b[31mFileNotFoundError\u001b[39m                         Traceback (most recent call last)",
      "\u001b[36mFile \u001b[39m\u001b[32m/usr/local/apps/python3/3.12.9-01/lib/python3.12/site-packages/fsspec/mapping.py:155\u001b[39m, in \u001b[36mFSMap.__getitem__\u001b[39m\u001b[34m(self, key, default)\u001b[39m\n\u001b[32m    154\u001b[39m \u001b[38;5;28;01mtry\u001b[39;00m:\n\u001b[32m--> \u001b[39m\u001b[32m155\u001b[39m     result = \u001b[38;5;28;43mself\u001b[39;49m\u001b[43m.\u001b[49m\u001b[43mfs\u001b[49m\u001b[43m.\u001b[49m\u001b[43mcat\u001b[49m\u001b[43m(\u001b[49m\u001b[43mk\u001b[49m\u001b[43m)\u001b[49m\n\u001b[32m    156\u001b[39m \u001b[38;5;28;01mexcept\u001b[39;00m \u001b[38;5;28mself\u001b[39m.missing_exceptions \u001b[38;5;28;01mas\u001b[39;00m exc:\n",
      "\u001b[36mFile \u001b[39m\u001b[32m/usr/local/apps/python3/3.12.9-01/lib/python3.12/site-packages/fsspec/asyn.py:118\u001b[39m, in \u001b[36msync_wrapper.<locals>.wrapper\u001b[39m\u001b[34m(*args, **kwargs)\u001b[39m\n\u001b[32m    117\u001b[39m \u001b[38;5;28mself\u001b[39m = obj \u001b[38;5;129;01mor\u001b[39;00m args[\u001b[32m0\u001b[39m]\n\u001b[32m--> \u001b[39m\u001b[32m118\u001b[39m \u001b[38;5;28;01mreturn\u001b[39;00m \u001b[43msync\u001b[49m\u001b[43m(\u001b[49m\u001b[38;5;28;43mself\u001b[39;49m\u001b[43m.\u001b[49m\u001b[43mloop\u001b[49m\u001b[43m,\u001b[49m\u001b[43m \u001b[49m\u001b[43mfunc\u001b[49m\u001b[43m,\u001b[49m\u001b[43m \u001b[49m\u001b[43m*\u001b[49m\u001b[43margs\u001b[49m\u001b[43m,\u001b[49m\u001b[43m \u001b[49m\u001b[43m*\u001b[49m\u001b[43m*\u001b[49m\u001b[43mkwargs\u001b[49m\u001b[43m)\u001b[49m\n",
      "\u001b[36mFile \u001b[39m\u001b[32m/usr/local/apps/python3/3.12.9-01/lib/python3.12/site-packages/fsspec/asyn.py:103\u001b[39m, in \u001b[36msync\u001b[39m\u001b[34m(loop, func, timeout, *args, **kwargs)\u001b[39m\n\u001b[32m    102\u001b[39m \u001b[38;5;28;01melif\u001b[39;00m \u001b[38;5;28misinstance\u001b[39m(return_result, \u001b[38;5;167;01mBaseException\u001b[39;00m):\n\u001b[32m--> \u001b[39m\u001b[32m103\u001b[39m     \u001b[38;5;28;01mraise\u001b[39;00m return_result\n\u001b[32m    104\u001b[39m \u001b[38;5;28;01melse\u001b[39;00m:\n",
      "\u001b[36mFile \u001b[39m\u001b[32m/usr/local/apps/python3/3.12.9-01/lib/python3.12/site-packages/fsspec/asyn.py:56\u001b[39m, in \u001b[36m_runner\u001b[39m\u001b[34m(event, coro, result, timeout)\u001b[39m\n\u001b[32m     55\u001b[39m \u001b[38;5;28;01mtry\u001b[39;00m:\n\u001b[32m---> \u001b[39m\u001b[32m56\u001b[39m     result[\u001b[32m0\u001b[39m] = \u001b[38;5;28;01mawait\u001b[39;00m coro\n\u001b[32m     57\u001b[39m \u001b[38;5;28;01mexcept\u001b[39;00m \u001b[38;5;167;01mException\u001b[39;00m \u001b[38;5;28;01mas\u001b[39;00m ex:\n",
      "\u001b[36mFile \u001b[39m\u001b[32m/usr/local/apps/python3/3.12.9-01/lib/python3.12/site-packages/fsspec/asyn.py:465\u001b[39m, in \u001b[36mAsyncFileSystem._cat\u001b[39m\u001b[34m(self, path, recursive, on_error, batch_size, **kwargs)\u001b[39m\n\u001b[32m    464\u001b[39m     \u001b[38;5;28;01mif\u001b[39;00m ex:\n\u001b[32m--> \u001b[39m\u001b[32m465\u001b[39m         \u001b[38;5;28;01mraise\u001b[39;00m ex\n\u001b[32m    466\u001b[39m \u001b[38;5;28;01mif\u001b[39;00m (\n\u001b[32m    467\u001b[39m     \u001b[38;5;28mlen\u001b[39m(paths) > \u001b[32m1\u001b[39m\n\u001b[32m    468\u001b[39m     \u001b[38;5;129;01mor\u001b[39;00m \u001b[38;5;28misinstance\u001b[39m(path, \u001b[38;5;28mlist\u001b[39m)\n\u001b[32m    469\u001b[39m     \u001b[38;5;129;01mor\u001b[39;00m paths[\u001b[32m0\u001b[39m] != \u001b[38;5;28mself\u001b[39m._strip_protocol(path)\n\u001b[32m    470\u001b[39m ):\n",
      "\u001b[36mFile \u001b[39m\u001b[32m/usr/local/apps/python3/3.12.9-01/lib/python3.12/site-packages/fsspec/asyn.py:245\u001b[39m, in \u001b[36m_run_coros_in_chunks.<locals>._run_coro\u001b[39m\u001b[34m(coro, i)\u001b[39m\n\u001b[32m    244\u001b[39m \u001b[38;5;28;01mtry\u001b[39;00m:\n\u001b[32m--> \u001b[39m\u001b[32m245\u001b[39m     \u001b[38;5;28;01mreturn\u001b[39;00m \u001b[38;5;28;01mawait\u001b[39;00m asyncio.wait_for(coro, timeout=timeout), i\n\u001b[32m    246\u001b[39m \u001b[38;5;28;01mexcept\u001b[39;00m \u001b[38;5;167;01mException\u001b[39;00m \u001b[38;5;28;01mas\u001b[39;00m e:\n",
      "\u001b[36mFile \u001b[39m\u001b[32m/usr/local/apps/python3/3.12.9-01/lib/python3.12/asyncio/tasks.py:520\u001b[39m, in \u001b[36mwait_for\u001b[39m\u001b[34m(fut, timeout)\u001b[39m\n\u001b[32m    519\u001b[39m \u001b[38;5;28;01masync\u001b[39;00m \u001b[38;5;28;01mwith\u001b[39;00m timeouts.timeout(timeout):\n\u001b[32m--> \u001b[39m\u001b[32m520\u001b[39m     \u001b[38;5;28;01mreturn\u001b[39;00m \u001b[38;5;28;01mawait\u001b[39;00m fut\n",
      "\u001b[36mFile \u001b[39m\u001b[32m/usr/local/apps/python3/3.12.9-01/lib/python3.12/site-packages/fsspec/implementations/http.py:236\u001b[39m, in \u001b[36mHTTPFileSystem._cat_file\u001b[39m\u001b[34m(self, url, start, end, **kwargs)\u001b[39m\n\u001b[32m    235\u001b[39m     out = \u001b[38;5;28;01mawait\u001b[39;00m r.read()\n\u001b[32m--> \u001b[39m\u001b[32m236\u001b[39m     \u001b[38;5;28;43mself\u001b[39;49m\u001b[43m.\u001b[49m\u001b[43m_raise_not_found_for_status\u001b[49m\u001b[43m(\u001b[49m\u001b[43mr\u001b[49m\u001b[43m,\u001b[49m\u001b[43m \u001b[49m\u001b[43murl\u001b[49m\u001b[43m)\u001b[49m\n\u001b[32m    237\u001b[39m \u001b[38;5;28;01mreturn\u001b[39;00m out\n",
      "\u001b[36mFile \u001b[39m\u001b[32m/usr/local/apps/python3/3.12.9-01/lib/python3.12/site-packages/fsspec/implementations/http.py:218\u001b[39m, in \u001b[36mHTTPFileSystem._raise_not_found_for_status\u001b[39m\u001b[34m(self, response, url)\u001b[39m\n\u001b[32m    217\u001b[39m \u001b[38;5;28;01mif\u001b[39;00m response.status == \u001b[32m404\u001b[39m:\n\u001b[32m--> \u001b[39m\u001b[32m218\u001b[39m     \u001b[38;5;28;01mraise\u001b[39;00m \u001b[38;5;167;01mFileNotFoundError\u001b[39;00m(url)\n\u001b[32m    219\u001b[39m response.raise_for_status()\n",
      "\u001b[31mFileNotFoundError\u001b[39m: https://object-store.os-api.cci2.ecmwf.int/ecmwf-rodeo-benchmark/seeps4all/fct_od_0001_t2max_europe_20231201_to_20240229_1200_ecad.zarr/.zmetadata",
      "\nThe above exception was the direct cause of the following exception:\n",
      "\u001b[31mKeyError\u001b[39m                                  Traceback (most recent call last)",
      "\u001b[36mFile \u001b[39m\u001b[32m/usr/local/apps/python3/3.12.9-01/lib/python3.12/site-packages/zarr/storage.py:1446\u001b[39m, in \u001b[36mFSStore.__getitem__\u001b[39m\u001b[34m(self, key)\u001b[39m\n\u001b[32m   1445\u001b[39m \u001b[38;5;28;01mtry\u001b[39;00m:\n\u001b[32m-> \u001b[39m\u001b[32m1446\u001b[39m     \u001b[38;5;28;01mreturn\u001b[39;00m \u001b[38;5;28;43mself\u001b[39;49m\u001b[43m.\u001b[49m\u001b[43mmap\u001b[49m\u001b[43m[\u001b[49m\u001b[43mkey\u001b[49m\u001b[43m]\u001b[49m\n\u001b[32m   1447\u001b[39m \u001b[38;5;28;01mexcept\u001b[39;00m \u001b[38;5;28mself\u001b[39m.exceptions \u001b[38;5;28;01mas\u001b[39;00m e:\n",
      "\u001b[36mFile \u001b[39m\u001b[32m/usr/local/apps/python3/3.12.9-01/lib/python3.12/site-packages/fsspec/mapping.py:159\u001b[39m, in \u001b[36mFSMap.__getitem__\u001b[39m\u001b[34m(self, key, default)\u001b[39m\n\u001b[32m    158\u001b[39m         \u001b[38;5;28;01mreturn\u001b[39;00m default\n\u001b[32m--> \u001b[39m\u001b[32m159\u001b[39m     \u001b[38;5;28;01mraise\u001b[39;00m \u001b[38;5;167;01mKeyError\u001b[39;00m(key) \u001b[38;5;28;01mfrom\u001b[39;00m\u001b[38;5;250m \u001b[39m\u001b[34;01mexc\u001b[39;00m\n\u001b[32m    160\u001b[39m \u001b[38;5;28;01mreturn\u001b[39;00m result\n",
      "\u001b[31mKeyError\u001b[39m: '.zmetadata'",
      "\nThe above exception was the direct cause of the following exception:\n",
      "\u001b[31mKeyError\u001b[39m                                  Traceback (most recent call last)",
      "\u001b[36mFile \u001b[39m\u001b[32m/usr/local/apps/python3/3.12.9-01/lib/python3.12/site-packages/xarray/backends/zarr.py:1811\u001b[39m, in \u001b[36m_get_open_params\u001b[39m\u001b[34m(store, mode, synchronizer, group, consolidated, consolidate_on_close, chunk_store, storage_options, zarr_version, use_zarr_fill_value_as_mask, zarr_format)\u001b[39m\n\u001b[32m   1810\u001b[39m \u001b[38;5;28;01mtry\u001b[39;00m:\n\u001b[32m-> \u001b[39m\u001b[32m1811\u001b[39m     zarr_root_group = \u001b[43mzarr\u001b[49m\u001b[43m.\u001b[49m\u001b[43mopen_consolidated\u001b[49m\u001b[43m(\u001b[49m\u001b[43mstore\u001b[49m\u001b[43m,\u001b[49m\u001b[43m \u001b[49m\u001b[43m*\u001b[49m\u001b[43m*\u001b[49m\u001b[43mopen_kwargs\u001b[49m\u001b[43m)\u001b[49m\n\u001b[32m   1812\u001b[39m \u001b[38;5;28;01mexcept\u001b[39;00m (\u001b[38;5;167;01mValueError\u001b[39;00m, \u001b[38;5;167;01mKeyError\u001b[39;00m):\n\u001b[32m   1813\u001b[39m     \u001b[38;5;66;03m# ValueError in zarr-python 3.x, KeyError in 2.x.\u001b[39;00m\n",
      "\u001b[36mFile \u001b[39m\u001b[32m/usr/local/apps/python3/3.12.9-01/lib/python3.12/site-packages/zarr/convenience.py:1362\u001b[39m, in \u001b[36mopen_consolidated\u001b[39m\u001b[34m(store, metadata_key, mode, **kwargs)\u001b[39m\n\u001b[32m   1361\u001b[39m \u001b[38;5;66;03m# setup metadata store\u001b[39;00m\n\u001b[32m-> \u001b[39m\u001b[32m1362\u001b[39m meta_store = \u001b[43mConsolidatedStoreClass\u001b[49m\u001b[43m(\u001b[49m\u001b[43mstore\u001b[49m\u001b[43m,\u001b[49m\u001b[43m \u001b[49m\u001b[43mmetadata_key\u001b[49m\u001b[43m=\u001b[49m\u001b[43mmetadata_key\u001b[49m\u001b[43m)\u001b[49m\n\u001b[32m   1364\u001b[39m \u001b[38;5;66;03m# pass through\u001b[39;00m\n",
      "\u001b[36mFile \u001b[39m\u001b[32m/usr/local/apps/python3/3.12.9-01/lib/python3.12/site-packages/zarr/storage.py:3045\u001b[39m, in \u001b[36mConsolidatedMetadataStore.__init__\u001b[39m\u001b[34m(self, store, metadata_key)\u001b[39m\n\u001b[32m   3044\u001b[39m \u001b[38;5;66;03m# retrieve consolidated metadata\u001b[39;00m\n\u001b[32m-> \u001b[39m\u001b[32m3045\u001b[39m meta = json_loads(\u001b[38;5;28;43mself\u001b[39;49m\u001b[43m.\u001b[49m\u001b[43mstore\u001b[49m\u001b[43m[\u001b[49m\u001b[43mmetadata_key\u001b[49m\u001b[43m]\u001b[49m)\n\u001b[32m   3047\u001b[39m \u001b[38;5;66;03m# check format of consolidated metadata\u001b[39;00m\n",
      "\u001b[36mFile \u001b[39m\u001b[32m/usr/local/apps/python3/3.12.9-01/lib/python3.12/site-packages/zarr/storage.py:1448\u001b[39m, in \u001b[36mFSStore.__getitem__\u001b[39m\u001b[34m(self, key)\u001b[39m\n\u001b[32m   1447\u001b[39m \u001b[38;5;28;01mexcept\u001b[39;00m \u001b[38;5;28mself\u001b[39m.exceptions \u001b[38;5;28;01mas\u001b[39;00m e:\n\u001b[32m-> \u001b[39m\u001b[32m1448\u001b[39m     \u001b[38;5;28;01mraise\u001b[39;00m \u001b[38;5;167;01mKeyError\u001b[39;00m(key) \u001b[38;5;28;01mfrom\u001b[39;00m\u001b[38;5;250m \u001b[39m\u001b[34;01me\u001b[39;00m\n",
      "\u001b[31mKeyError\u001b[39m: '.zmetadata'",
      "\nDuring handling of the above exception, another exception occurred:\n",
      "\u001b[31mGroupNotFoundError\u001b[39m                        Traceback (most recent call last)",
      "\u001b[36mFile \u001b[39m\u001b[32m/usr/local/apps/python3/3.12.9-01/lib/python3.12/site-packages/xarray/backends/zarr.py:1815\u001b[39m, in \u001b[36m_get_open_params\u001b[39m\u001b[34m(store, mode, synchronizer, group, consolidated, consolidate_on_close, chunk_store, storage_options, zarr_version, use_zarr_fill_value_as_mask, zarr_format)\u001b[39m\n\u001b[32m   1814\u001b[39m \u001b[38;5;28;01mtry\u001b[39;00m:\n\u001b[32m-> \u001b[39m\u001b[32m1815\u001b[39m     zarr_root_group = \u001b[43mzarr\u001b[49m\u001b[43m.\u001b[49m\u001b[43mopen_group\u001b[49m\u001b[43m(\u001b[49m\u001b[43mstore\u001b[49m\u001b[43m,\u001b[49m\u001b[43m \u001b[49m\u001b[43m*\u001b[49m\u001b[43m*\u001b[49m\u001b[43mopen_kwargs\u001b[49m\u001b[43m)\u001b[49m\n\u001b[32m   1816\u001b[39m     emit_user_level_warning(\n\u001b[32m   1817\u001b[39m         \u001b[33m\"\u001b[39m\u001b[33mFailed to open Zarr store with consolidated metadata, \u001b[39m\u001b[33m\"\u001b[39m\n\u001b[32m   1818\u001b[39m         \u001b[33m\"\u001b[39m\u001b[33mbut successfully read with non-consolidated metadata. \u001b[39m\u001b[33m\"\u001b[39m\n\u001b[32m   (...)\u001b[39m\u001b[32m   1828\u001b[39m         \u001b[38;5;167;01mRuntimeWarning\u001b[39;00m,\n\u001b[32m   1829\u001b[39m     )\n",
      "\u001b[36mFile \u001b[39m\u001b[32m/usr/local/apps/python3/3.12.9-01/lib/python3.12/site-packages/zarr/hierarchy.py:1578\u001b[39m, in \u001b[36mopen_group\u001b[39m\u001b[34m(store, mode, cache_attrs, synchronizer, path, chunk_store, storage_options, zarr_version, meta_array)\u001b[39m\n\u001b[32m   1577\u001b[39m             \u001b[38;5;28;01mraise\u001b[39;00m ContainsArrayError(path)\n\u001b[32m-> \u001b[39m\u001b[32m1578\u001b[39m         \u001b[38;5;28;01mraise\u001b[39;00m GroupNotFoundError(path)\n\u001b[32m   1580\u001b[39m \u001b[38;5;28;01melif\u001b[39;00m mode == \u001b[33m\"\u001b[39m\u001b[33mw\u001b[39m\u001b[33m\"\u001b[39m:\n",
      "\u001b[31mGroupNotFoundError\u001b[39m: group not found at path ''",
      "\nThe above exception was the direct cause of the following exception:\n",
      "\u001b[31mFileNotFoundError\u001b[39m                         Traceback (most recent call last)",
      "\u001b[36mCell\u001b[39m\u001b[36m \u001b[39m\u001b[32mIn[4]\u001b[39m\u001b[32m, line 3\u001b[39m\n\u001b[32m      1\u001b[39m \u001b[38;5;66;03m# open data\u001b[39;00m\n\u001b[32m      2\u001b[39m obs_data = get_obs(path_data,\u001b[33m\"\u001b[39m\u001b[33mclim\u001b[39m\u001b[33m\"\u001b[39m,obs_origin=\u001b[33m\"\u001b[39m\u001b[33mecad\u001b[39m\u001b[33m\"\u001b[39m,param=\u001b[33m\"\u001b[39m\u001b[33mt2max\u001b[39m\u001b[33m\"\u001b[39m)\n\u001b[32m----> \u001b[39m\u001b[32m3\u001b[39m fct_data = \u001b[43mget_fct\u001b[49m\u001b[43m(\u001b[49m\u001b[43mpath_data\u001b[49m\u001b[43m,\u001b[49m\u001b[43mname_forecasts\u001b[49m\u001b[43m)\u001b[49m\n",
      "\u001b[36mFile \u001b[39m\u001b[32m/etc/ecmwf/nfs/dh1_home_a/mozb/main/sproj/Hackaton/seeps4all/verification/utils/utils_data.py:44\u001b[39m, in \u001b[36mget_fct\u001b[39m\u001b[34m(path_data, name_forecasts)\u001b[39m\n\u001b[32m     42\u001b[39m \u001b[38;5;28;01mif\u001b[39;00m  os.path.isdir(path_zarr) == \u001b[38;5;28;01mFalse\u001b[39;00m:\n\u001b[32m     43\u001b[39m     \u001b[38;5;28mprint\u001b[39m(\u001b[33mf\u001b[39m\u001b[33m\"\u001b[39m\u001b[33m. get data from \u001b[39m\u001b[38;5;132;01m{\u001b[39;00murl\u001b[38;5;132;01m}\u001b[39;00m\u001b[33m\"\u001b[39m)\n\u001b[32m---> \u001b[39m\u001b[32m44\u001b[39m     ds = \u001b[43mxr\u001b[49m\u001b[43m.\u001b[49m\u001b[43mopen_zarr\u001b[49m\u001b[43m(\u001b[49m\u001b[33;43mf\u001b[39;49m\u001b[33;43m'\u001b[39;49m\u001b[38;5;132;43;01m{\u001b[39;49;00m\u001b[43murl\u001b[49m\u001b[38;5;132;43;01m}\u001b[39;49;00m\u001b[33;43m/\u001b[39;49m\u001b[38;5;132;43;01m{\u001b[39;49;00m\u001b[43mbucket\u001b[49m\u001b[38;5;132;43;01m}\u001b[39;49;00m\u001b[33;43m/seeps4all/\u001b[39;49m\u001b[38;5;132;43;01m{\u001b[39;49;00m\u001b[43mname_forecasts\u001b[49m\u001b[43m[\u001b[49m\u001b[43miex\u001b[49m\u001b[43m]\u001b[49m\u001b[38;5;132;43;01m}\u001b[39;49;00m\u001b[33;43m.zarr\u001b[39;49m\u001b[33;43m'\u001b[39;49m\u001b[43m,\u001b[49m\u001b[43mdecode_timedelta\u001b[49m\u001b[43m=\u001b[49m\u001b[38;5;28;43;01mTrue\u001b[39;49;00m\u001b[43m)\u001b[49m\n\u001b[32m     45\u001b[39m     fct_data.append(ds)\n\u001b[32m     46\u001b[39m     \u001b[38;5;66;03m#archive data\u001b[39;00m\n",
      "\u001b[36mFile \u001b[39m\u001b[32m/usr/local/apps/python3/3.12.9-01/lib/python3.12/site-packages/xarray/backends/zarr.py:1535\u001b[39m, in \u001b[36mopen_zarr\u001b[39m\u001b[34m(store, group, synchronizer, chunks, decode_cf, mask_and_scale, decode_times, concat_characters, decode_coords, drop_variables, consolidated, overwrite_encoded_chunks, chunk_store, storage_options, decode_timedelta, use_cftime, zarr_version, zarr_format, use_zarr_fill_value_as_mask, chunked_array_type, from_array_kwargs, **kwargs)\u001b[39m\n\u001b[32m   1521\u001b[39m     \u001b[38;5;28;01mraise\u001b[39;00m \u001b[38;5;167;01mTypeError\u001b[39;00m(\n\u001b[32m   1522\u001b[39m         \u001b[33m\"\u001b[39m\u001b[33mopen_zarr() got unexpected keyword arguments \u001b[39m\u001b[33m\"\u001b[39m + \u001b[33m\"\u001b[39m\u001b[33m,\u001b[39m\u001b[33m\"\u001b[39m.join(kwargs.keys())\n\u001b[32m   1523\u001b[39m     )\n\u001b[32m   1525\u001b[39m backend_kwargs = {\n\u001b[32m   1526\u001b[39m     \u001b[33m\"\u001b[39m\u001b[33msynchronizer\u001b[39m\u001b[33m\"\u001b[39m: synchronizer,\n\u001b[32m   1527\u001b[39m     \u001b[33m\"\u001b[39m\u001b[33mconsolidated\u001b[39m\u001b[33m\"\u001b[39m: consolidated,\n\u001b[32m   (...)\u001b[39m\u001b[32m   1532\u001b[39m     \u001b[33m\"\u001b[39m\u001b[33mzarr_format\u001b[39m\u001b[33m\"\u001b[39m: zarr_format,\n\u001b[32m   1533\u001b[39m }\n\u001b[32m-> \u001b[39m\u001b[32m1535\u001b[39m ds = \u001b[43mopen_dataset\u001b[49m\u001b[43m(\u001b[49m\n\u001b[32m   1536\u001b[39m \u001b[43m    \u001b[49m\u001b[43mfilename_or_obj\u001b[49m\u001b[43m=\u001b[49m\u001b[43mstore\u001b[49m\u001b[43m,\u001b[49m\n\u001b[32m   1537\u001b[39m \u001b[43m    \u001b[49m\u001b[43mgroup\u001b[49m\u001b[43m=\u001b[49m\u001b[43mgroup\u001b[49m\u001b[43m,\u001b[49m\n\u001b[32m   1538\u001b[39m \u001b[43m    \u001b[49m\u001b[43mdecode_cf\u001b[49m\u001b[43m=\u001b[49m\u001b[43mdecode_cf\u001b[49m\u001b[43m,\u001b[49m\n\u001b[32m   1539\u001b[39m \u001b[43m    \u001b[49m\u001b[43mmask_and_scale\u001b[49m\u001b[43m=\u001b[49m\u001b[43mmask_and_scale\u001b[49m\u001b[43m,\u001b[49m\n\u001b[32m   1540\u001b[39m \u001b[43m    \u001b[49m\u001b[43mdecode_times\u001b[49m\u001b[43m=\u001b[49m\u001b[43mdecode_times\u001b[49m\u001b[43m,\u001b[49m\n\u001b[32m   1541\u001b[39m \u001b[43m    \u001b[49m\u001b[43mconcat_characters\u001b[49m\u001b[43m=\u001b[49m\u001b[43mconcat_characters\u001b[49m\u001b[43m,\u001b[49m\n\u001b[32m   1542\u001b[39m \u001b[43m    \u001b[49m\u001b[43mdecode_coords\u001b[49m\u001b[43m=\u001b[49m\u001b[43mdecode_coords\u001b[49m\u001b[43m,\u001b[49m\n\u001b[32m   1543\u001b[39m \u001b[43m    \u001b[49m\u001b[43mengine\u001b[49m\u001b[43m=\u001b[49m\u001b[33;43m\"\u001b[39;49m\u001b[33;43mzarr\u001b[39;49m\u001b[33;43m\"\u001b[39;49m\u001b[43m,\u001b[49m\n\u001b[32m   1544\u001b[39m \u001b[43m    \u001b[49m\u001b[43mchunks\u001b[49m\u001b[43m=\u001b[49m\u001b[43mchunks\u001b[49m\u001b[43m,\u001b[49m\n\u001b[32m   1545\u001b[39m \u001b[43m    \u001b[49m\u001b[43mdrop_variables\u001b[49m\u001b[43m=\u001b[49m\u001b[43mdrop_variables\u001b[49m\u001b[43m,\u001b[49m\n\u001b[32m   1546\u001b[39m \u001b[43m    \u001b[49m\u001b[43mchunked_array_type\u001b[49m\u001b[43m=\u001b[49m\u001b[43mchunked_array_type\u001b[49m\u001b[43m,\u001b[49m\n\u001b[32m   1547\u001b[39m \u001b[43m    \u001b[49m\u001b[43mfrom_array_kwargs\u001b[49m\u001b[43m=\u001b[49m\u001b[43mfrom_array_kwargs\u001b[49m\u001b[43m,\u001b[49m\n\u001b[32m   1548\u001b[39m \u001b[43m    \u001b[49m\u001b[43mbackend_kwargs\u001b[49m\u001b[43m=\u001b[49m\u001b[43mbackend_kwargs\u001b[49m\u001b[43m,\u001b[49m\n\u001b[32m   1549\u001b[39m \u001b[43m    \u001b[49m\u001b[43mdecode_timedelta\u001b[49m\u001b[43m=\u001b[49m\u001b[43mdecode_timedelta\u001b[49m\u001b[43m,\u001b[49m\n\u001b[32m   1550\u001b[39m \u001b[43m    \u001b[49m\u001b[43muse_cftime\u001b[49m\u001b[43m=\u001b[49m\u001b[43muse_cftime\u001b[49m\u001b[43m,\u001b[49m\n\u001b[32m   1551\u001b[39m \u001b[43m    \u001b[49m\u001b[43mzarr_version\u001b[49m\u001b[43m=\u001b[49m\u001b[43mzarr_version\u001b[49m\u001b[43m,\u001b[49m\n\u001b[32m   1552\u001b[39m \u001b[43m    \u001b[49m\u001b[43muse_zarr_fill_value_as_mask\u001b[49m\u001b[43m=\u001b[49m\u001b[43muse_zarr_fill_value_as_mask\u001b[49m\u001b[43m,\u001b[49m\n\u001b[32m   1553\u001b[39m \u001b[43m\u001b[49m\u001b[43m)\u001b[49m\n\u001b[32m   1554\u001b[39m \u001b[38;5;28;01mreturn\u001b[39;00m ds\n",
      "\u001b[36mFile \u001b[39m\u001b[32m/usr/local/apps/python3/3.12.9-01/lib/python3.12/site-packages/xarray/backends/api.py:687\u001b[39m, in \u001b[36mopen_dataset\u001b[39m\u001b[34m(filename_or_obj, engine, chunks, cache, decode_cf, mask_and_scale, decode_times, decode_timedelta, use_cftime, concat_characters, decode_coords, drop_variables, inline_array, chunked_array_type, from_array_kwargs, backend_kwargs, **kwargs)\u001b[39m\n\u001b[32m    675\u001b[39m decoders = _resolve_decoders_kwargs(\n\u001b[32m    676\u001b[39m     decode_cf,\n\u001b[32m    677\u001b[39m     open_backend_dataset_parameters=backend.open_dataset_parameters,\n\u001b[32m   (...)\u001b[39m\u001b[32m    683\u001b[39m     decode_coords=decode_coords,\n\u001b[32m    684\u001b[39m )\n\u001b[32m    686\u001b[39m overwrite_encoded_chunks = kwargs.pop(\u001b[33m\"\u001b[39m\u001b[33moverwrite_encoded_chunks\u001b[39m\u001b[33m\"\u001b[39m, \u001b[38;5;28;01mNone\u001b[39;00m)\n\u001b[32m--> \u001b[39m\u001b[32m687\u001b[39m backend_ds = \u001b[43mbackend\u001b[49m\u001b[43m.\u001b[49m\u001b[43mopen_dataset\u001b[49m\u001b[43m(\u001b[49m\n\u001b[32m    688\u001b[39m \u001b[43m    \u001b[49m\u001b[43mfilename_or_obj\u001b[49m\u001b[43m,\u001b[49m\n\u001b[32m    689\u001b[39m \u001b[43m    \u001b[49m\u001b[43mdrop_variables\u001b[49m\u001b[43m=\u001b[49m\u001b[43mdrop_variables\u001b[49m\u001b[43m,\u001b[49m\n\u001b[32m    690\u001b[39m \u001b[43m    \u001b[49m\u001b[43m*\u001b[49m\u001b[43m*\u001b[49m\u001b[43mdecoders\u001b[49m\u001b[43m,\u001b[49m\n\u001b[32m    691\u001b[39m \u001b[43m    \u001b[49m\u001b[43m*\u001b[49m\u001b[43m*\u001b[49m\u001b[43mkwargs\u001b[49m\u001b[43m,\u001b[49m\n\u001b[32m    692\u001b[39m \u001b[43m\u001b[49m\u001b[43m)\u001b[49m\n\u001b[32m    693\u001b[39m ds = _dataset_from_backend_dataset(\n\u001b[32m    694\u001b[39m     backend_ds,\n\u001b[32m    695\u001b[39m     filename_or_obj,\n\u001b[32m   (...)\u001b[39m\u001b[32m    705\u001b[39m     **kwargs,\n\u001b[32m    706\u001b[39m )\n\u001b[32m    707\u001b[39m \u001b[38;5;28;01mreturn\u001b[39;00m ds\n",
      "\u001b[36mFile \u001b[39m\u001b[32m/usr/local/apps/python3/3.12.9-01/lib/python3.12/site-packages/xarray/backends/zarr.py:1608\u001b[39m, in \u001b[36mZarrBackendEntrypoint.open_dataset\u001b[39m\u001b[34m(self, filename_or_obj, mask_and_scale, decode_times, concat_characters, decode_coords, drop_variables, use_cftime, decode_timedelta, group, mode, synchronizer, consolidated, chunk_store, storage_options, zarr_version, zarr_format, store, engine, use_zarr_fill_value_as_mask, cache_members)\u001b[39m\n\u001b[32m   1606\u001b[39m filename_or_obj = _normalize_path(filename_or_obj)\n\u001b[32m   1607\u001b[39m \u001b[38;5;28;01mif\u001b[39;00m \u001b[38;5;129;01mnot\u001b[39;00m store:\n\u001b[32m-> \u001b[39m\u001b[32m1608\u001b[39m     store = \u001b[43mZarrStore\u001b[49m\u001b[43m.\u001b[49m\u001b[43mopen_group\u001b[49m\u001b[43m(\u001b[49m\n\u001b[32m   1609\u001b[39m \u001b[43m        \u001b[49m\u001b[43mfilename_or_obj\u001b[49m\u001b[43m,\u001b[49m\n\u001b[32m   1610\u001b[39m \u001b[43m        \u001b[49m\u001b[43mgroup\u001b[49m\u001b[43m=\u001b[49m\u001b[43mgroup\u001b[49m\u001b[43m,\u001b[49m\n\u001b[32m   1611\u001b[39m \u001b[43m        \u001b[49m\u001b[43mmode\u001b[49m\u001b[43m=\u001b[49m\u001b[43mmode\u001b[49m\u001b[43m,\u001b[49m\n\u001b[32m   1612\u001b[39m \u001b[43m        \u001b[49m\u001b[43msynchronizer\u001b[49m\u001b[43m=\u001b[49m\u001b[43msynchronizer\u001b[49m\u001b[43m,\u001b[49m\n\u001b[32m   1613\u001b[39m \u001b[43m        \u001b[49m\u001b[43mconsolidated\u001b[49m\u001b[43m=\u001b[49m\u001b[43mconsolidated\u001b[49m\u001b[43m,\u001b[49m\n\u001b[32m   1614\u001b[39m \u001b[43m        \u001b[49m\u001b[43mconsolidate_on_close\u001b[49m\u001b[43m=\u001b[49m\u001b[38;5;28;43;01mFalse\u001b[39;49;00m\u001b[43m,\u001b[49m\n\u001b[32m   1615\u001b[39m \u001b[43m        \u001b[49m\u001b[43mchunk_store\u001b[49m\u001b[43m=\u001b[49m\u001b[43mchunk_store\u001b[49m\u001b[43m,\u001b[49m\n\u001b[32m   1616\u001b[39m \u001b[43m        \u001b[49m\u001b[43mstorage_options\u001b[49m\u001b[43m=\u001b[49m\u001b[43mstorage_options\u001b[49m\u001b[43m,\u001b[49m\n\u001b[32m   1617\u001b[39m \u001b[43m        \u001b[49m\u001b[43mzarr_version\u001b[49m\u001b[43m=\u001b[49m\u001b[43mzarr_version\u001b[49m\u001b[43m,\u001b[49m\n\u001b[32m   1618\u001b[39m \u001b[43m        \u001b[49m\u001b[43muse_zarr_fill_value_as_mask\u001b[49m\u001b[43m=\u001b[49m\u001b[38;5;28;43;01mNone\u001b[39;49;00m\u001b[43m,\u001b[49m\n\u001b[32m   1619\u001b[39m \u001b[43m        \u001b[49m\u001b[43mzarr_format\u001b[49m\u001b[43m=\u001b[49m\u001b[43mzarr_format\u001b[49m\u001b[43m,\u001b[49m\n\u001b[32m   1620\u001b[39m \u001b[43m        \u001b[49m\u001b[43mcache_members\u001b[49m\u001b[43m=\u001b[49m\u001b[43mcache_members\u001b[49m\u001b[43m,\u001b[49m\n\u001b[32m   1621\u001b[39m \u001b[43m    \u001b[49m\u001b[43m)\u001b[49m\n\u001b[32m   1623\u001b[39m store_entrypoint = StoreBackendEntrypoint()\n\u001b[32m   1624\u001b[39m \u001b[38;5;28;01mwith\u001b[39;00m close_on_error(store):\n",
      "\u001b[36mFile \u001b[39m\u001b[32m/usr/local/apps/python3/3.12.9-01/lib/python3.12/site-packages/xarray/backends/zarr.py:732\u001b[39m, in \u001b[36mZarrStore.open_group\u001b[39m\u001b[34m(cls, store, mode, synchronizer, group, consolidated, consolidate_on_close, chunk_store, storage_options, append_dim, write_region, safe_chunks, zarr_version, zarr_format, use_zarr_fill_value_as_mask, write_empty, cache_members)\u001b[39m\n\u001b[32m    707\u001b[39m \u001b[38;5;129m@classmethod\u001b[39m\n\u001b[32m    708\u001b[39m \u001b[38;5;28;01mdef\u001b[39;00m\u001b[38;5;250m \u001b[39m\u001b[34mopen_group\u001b[39m(\n\u001b[32m    709\u001b[39m     \u001b[38;5;28mcls\u001b[39m,\n\u001b[32m   (...)\u001b[39m\u001b[32m    725\u001b[39m     cache_members: \u001b[38;5;28mbool\u001b[39m = \u001b[38;5;28;01mTrue\u001b[39;00m,\n\u001b[32m    726\u001b[39m ):\n\u001b[32m    727\u001b[39m     (\n\u001b[32m    728\u001b[39m         zarr_group,\n\u001b[32m    729\u001b[39m         consolidate_on_close,\n\u001b[32m    730\u001b[39m         close_store_on_close,\n\u001b[32m    731\u001b[39m         use_zarr_fill_value_as_mask,\n\u001b[32m--> \u001b[39m\u001b[32m732\u001b[39m     ) = \u001b[43m_get_open_params\u001b[49m\u001b[43m(\u001b[49m\n\u001b[32m    733\u001b[39m \u001b[43m        \u001b[49m\u001b[43mstore\u001b[49m\u001b[43m=\u001b[49m\u001b[43mstore\u001b[49m\u001b[43m,\u001b[49m\n\u001b[32m    734\u001b[39m \u001b[43m        \u001b[49m\u001b[43mmode\u001b[49m\u001b[43m=\u001b[49m\u001b[43mmode\u001b[49m\u001b[43m,\u001b[49m\n\u001b[32m    735\u001b[39m \u001b[43m        \u001b[49m\u001b[43msynchronizer\u001b[49m\u001b[43m=\u001b[49m\u001b[43msynchronizer\u001b[49m\u001b[43m,\u001b[49m\n\u001b[32m    736\u001b[39m \u001b[43m        \u001b[49m\u001b[43mgroup\u001b[49m\u001b[43m=\u001b[49m\u001b[43mgroup\u001b[49m\u001b[43m,\u001b[49m\n\u001b[32m    737\u001b[39m \u001b[43m        \u001b[49m\u001b[43mconsolidated\u001b[49m\u001b[43m=\u001b[49m\u001b[43mconsolidated\u001b[49m\u001b[43m,\u001b[49m\n\u001b[32m    738\u001b[39m \u001b[43m        \u001b[49m\u001b[43mconsolidate_on_close\u001b[49m\u001b[43m=\u001b[49m\u001b[43mconsolidate_on_close\u001b[49m\u001b[43m,\u001b[49m\n\u001b[32m    739\u001b[39m \u001b[43m        \u001b[49m\u001b[43mchunk_store\u001b[49m\u001b[43m=\u001b[49m\u001b[43mchunk_store\u001b[49m\u001b[43m,\u001b[49m\n\u001b[32m    740\u001b[39m \u001b[43m        \u001b[49m\u001b[43mstorage_options\u001b[49m\u001b[43m=\u001b[49m\u001b[43mstorage_options\u001b[49m\u001b[43m,\u001b[49m\n\u001b[32m    741\u001b[39m \u001b[43m        \u001b[49m\u001b[43mzarr_version\u001b[49m\u001b[43m=\u001b[49m\u001b[43mzarr_version\u001b[49m\u001b[43m,\u001b[49m\n\u001b[32m    742\u001b[39m \u001b[43m        \u001b[49m\u001b[43muse_zarr_fill_value_as_mask\u001b[49m\u001b[43m=\u001b[49m\u001b[43muse_zarr_fill_value_as_mask\u001b[49m\u001b[43m,\u001b[49m\n\u001b[32m    743\u001b[39m \u001b[43m        \u001b[49m\u001b[43mzarr_format\u001b[49m\u001b[43m=\u001b[49m\u001b[43mzarr_format\u001b[49m\u001b[43m,\u001b[49m\n\u001b[32m    744\u001b[39m \u001b[43m    \u001b[49m\u001b[43m)\u001b[49m\n\u001b[32m    746\u001b[39m     \u001b[38;5;28;01mreturn\u001b[39;00m \u001b[38;5;28mcls\u001b[39m(\n\u001b[32m    747\u001b[39m         zarr_group,\n\u001b[32m    748\u001b[39m         mode,\n\u001b[32m   (...)\u001b[39m\u001b[32m    756\u001b[39m         cache_members,\n\u001b[32m    757\u001b[39m     )\n",
      "\u001b[36mFile \u001b[39m\u001b[32m/usr/local/apps/python3/3.12.9-01/lib/python3.12/site-packages/xarray/backends/zarr.py:1831\u001b[39m, in \u001b[36m_get_open_params\u001b[39m\u001b[34m(store, mode, synchronizer, group, consolidated, consolidate_on_close, chunk_store, storage_options, zarr_version, use_zarr_fill_value_as_mask, zarr_format)\u001b[39m\n\u001b[32m   1816\u001b[39m             emit_user_level_warning(\n\u001b[32m   1817\u001b[39m                 \u001b[33m\"\u001b[39m\u001b[33mFailed to open Zarr store with consolidated metadata, \u001b[39m\u001b[33m\"\u001b[39m\n\u001b[32m   1818\u001b[39m                 \u001b[33m\"\u001b[39m\u001b[33mbut successfully read with non-consolidated metadata. \u001b[39m\u001b[33m\"\u001b[39m\n\u001b[32m   (...)\u001b[39m\u001b[32m   1828\u001b[39m                 \u001b[38;5;167;01mRuntimeWarning\u001b[39;00m,\n\u001b[32m   1829\u001b[39m             )\n\u001b[32m   1830\u001b[39m         \u001b[38;5;28;01mexcept\u001b[39;00m missing_exc \u001b[38;5;28;01mas\u001b[39;00m err:\n\u001b[32m-> \u001b[39m\u001b[32m1831\u001b[39m             \u001b[38;5;28;01mraise\u001b[39;00m \u001b[38;5;167;01mFileNotFoundError\u001b[39;00m(\n\u001b[32m   1832\u001b[39m                 \u001b[33mf\u001b[39m\u001b[33m\"\u001b[39m\u001b[33mNo such file or directory: \u001b[39m\u001b[33m'\u001b[39m\u001b[38;5;132;01m{\u001b[39;00mstore\u001b[38;5;132;01m}\u001b[39;00m\u001b[33m'\u001b[39m\u001b[33m\"\u001b[39m\n\u001b[32m   1833\u001b[39m             ) \u001b[38;5;28;01mfrom\u001b[39;00m\u001b[38;5;250m \u001b[39m\u001b[34;01merr\u001b[39;00m\n\u001b[32m   1835\u001b[39m \u001b[38;5;66;03m# but the user should still receive a DataTree whose root is the group they asked for\u001b[39;00m\n\u001b[32m   1836\u001b[39m \u001b[38;5;28;01mif\u001b[39;00m group \u001b[38;5;129;01mand\u001b[39;00m group != \u001b[33m\"\u001b[39m\u001b[33m/\u001b[39m\u001b[33m\"\u001b[39m:\n",
      "\u001b[31mFileNotFoundError\u001b[39m: No such file or directory: 'https://object-store.os-api.cci2.ecmwf.int/ecmwf-rodeo-benchmark/seeps4all/fct_od_0001_t2max_europe_20231201_to_20240229_1200_ecad.zarr'"
     ]
    }
   ],
   "source": [
    "# open data\n",
    "obs_data = get_obs(path_data,\"clim\",obs_origin=\"ecad\",param=\"t2max\")\n",
    "fct_data = get_fct(path_data,name_forecasts)"
   ]
  },
  {
   "cell_type": "markdown",
   "id": "d9b5dd6d-c2cf-4cf7-a1d7-b326dfbfad18",
   "metadata": {},
   "source": [
    "### 2B exploring the data"
   ]
  },
  {
   "cell_type": "code",
   "execution_count": null,
   "id": "10da6cc8-be17-45c1-a54e-a863ba36e9f9",
   "metadata": {},
   "outputs": [],
   "source": [
    "lat = obs_data.lat.values\n",
    "lon = obs_data.lon.values\n",
    "#plt.plot(lon,lat,\".\")"
   ]
  },
  {
   "cell_type": "code",
   "execution_count": null,
   "id": "e8c7eb90-8dd4-4441-a079-03ea9a7a2969",
   "metadata": {},
   "outputs": [],
   "source": [
    "from mpl_toolkits.basemap import Basemap, cm\n",
    "fig = plt.figure(figsize=(8,8))\n",
    "ax = fig.add_axes([0.1,0.1,0.8,0.8])\n",
    "# create polar stereographic Basemap instance.\n",
    "m = Basemap(projection='stere',lon_0=lon_0,lat_0=90.,lat_ts=lat_0,\\\n",
    "            llcrnrlat=latcorners[0],urcrnrlat=latcorners[2],\\\n",
    "            llcrnrlon=loncorners[0],urcrnrlon=loncorners[2],\\\n",
    "            rsphere=6371200.,resolution='l',area_thresh=10000)\n",
    "# draw coastlines, state and country boundaries, edge of map.\n",
    "m.drawcoastlines()\n",
    "m.drawstates()\n",
    "m.drawcountries()\n",
    "plt.scatter(lon,lat,c=lat,cmap=\"bwr\",vmin=-5,vmax=5)\n",
    "plt.xlim([-15,45])\n",
    "plt.ylim([35,75])\n",
    "plt.colorbar()\n",
    "plt.show()\n",
    "asd"
   ]
  },
  {
   "cell_type": "code",
   "execution_count": null,
   "id": "8a3152da-e06e-429c-bd4d-6af2296f3b0f",
   "metadata": {},
   "outputs": [],
   "source": [
    "# scatter plot\n",
    "iex = 0\n",
    "istep = 5\n",
    "if True:\n",
    "    runs = fct_data[iex].run.values\n",
    "    steps = fct_data[iex].step.values\n",
    "\n",
    "    print(f\"experiment {iex}, {len(steps)} steps\")\n",
    "        \n",
    "    vtime = [pd.Timestamp(vt)-pd.Timedelta(24,unit=\"h\") for vt in runs+steps[istep] ]\n",
    "    valid_t = [\"%s-%02d-%02d\"%(vt.year,vt.month,vt.day) for vt in vtime]\n",
    "\n",
    "    # select observations\n",
    "    o = obs_data.sel(time=valid_t)\n",
    "\n",
    "    # select ensemble\n",
    "    f = fct_data[iex].sel(step=steps[istep])\n",
    "\n",
    "f0 = f.forecast.values[0,:]\n",
    "o0 = o.observation.values[0,:]\n",
    "plt.plot(o0,f0,'.')"
   ]
  },
  {
   "cell_type": "markdown",
   "id": "dfd0a0ac-a092-42c6-bfda-4775b5d5bc5d",
   "metadata": {},
   "source": [
    "### 3. Domain and station weighting "
   ]
  },
  {
   "cell_type": "code",
   "execution_count": null,
   "id": "56698949-e816-44fc-9ef2-69135742a79d",
   "metadata": {},
   "outputs": [],
   "source": [
    "# verification domain\n",
    "domain = \"europe\" # default otherwise define\n",
    "obs_data,fct_data = get_domain(obs_data,fct_data,domain)"
   ]
  },
  {
   "cell_type": "code",
   "execution_count": null,
   "id": "c4099d6b-ac3a-4368-832d-2d002f61e7b0",
   "metadata": {},
   "outputs": [],
   "source": [
    "# weighting: \"uniform\" or \"station_weighting\"\n",
    "weights = get_weights(obs_data,\"station_weighting\")"
   ]
  },
  {
   "cell_type": "markdown",
   "id": "0e0dd82a-1f3c-48b5-b3fb-e55bf81986d8",
   "metadata": {},
   "source": [
    "### 4.a Compute RMSE"
   ]
  },
  {
   "cell_type": "code",
   "execution_count": null,
   "id": "135df500-659b-4d08-9681-d2190324964a",
   "metadata": {},
   "outputs": [],
   "source": [
    "plot_info= dict()\n",
    "plot_info[\"prefig\"] = prefig\n",
    "plot_info[\"colors\"] = colors\n",
    "plot_info[\"labels\"] = labels"
   ]
  },
  {
   "cell_type": "code",
   "execution_count": null,
   "id": "a97c67e3-d93c-4409-b7a6-f190af9c3cc1",
   "metadata": {},
   "outputs": [],
   "source": [
    "rmse = get_score(obs_data,fct_data,weights,\"me\")\n",
    "plot_simple_scores(rmse,\"bias\",plot_info,bootstrap=False)"
   ]
  },
  {
   "cell_type": "code",
   "execution_count": null,
   "id": "2d6fc4ba-4a9b-4d5b-af49-8459e25775b5",
   "metadata": {},
   "outputs": [],
   "source": [
    "rmse = get_score(obs_data,fct_data,weights,\"rmse\")\n",
    "plot_simple_scores(rmse,\"RMSE\",plot_info,bootstrap=False)"
   ]
  },
  {
   "cell_type": "markdown",
   "id": "b57c8fde-7aa6-4eb9-ac4d-bd79576a0faf",
   "metadata": {},
   "source": [
    "### 4.b Compute  threshold dependent scores"
   ]
  },
  {
   "cell_type": "markdown",
   "id": "5ec0b943-b9ae-41fb-9b11-8a1c27c43cf0",
   "metadata": {},
   "source": [
    "Compute PSS, ETS, FBI for a given threshold over a verification period for each forecast lead time"
   ]
  },
  {
   "cell_type": "code",
   "execution_count": null,
   "id": "df32108b-b7df-447b-bd55-67f2266974f1",
   "metadata": {},
   "outputs": [],
   "source": [
    "# percentiles used as thresholds\n",
    "thresholds = (\"perc65\",\"perc70\",\"perc75\",\"perc80\",\"perc85\",\"perc90\",\"perc95\",\"perc98\",\"perc99\") \n",
    "#get contingency tables\n",
    "CT = get_CT(obs_data,fct_data, weights,thresholds)"
   ]
  },
  {
   "cell_type": "code",
   "execution_count": null,
   "id": "b47c79a0-4e72-4b70-99db-b6ab4efe07bf",
   "metadata": {},
   "outputs": [],
   "source": [
    "# info for plotting\n",
    "plot_info= dict()\n",
    "plot_info[\"thresholds\"] = thresholds\n",
    "plot_info[\"prefig\"] = prefig\n",
    "plot_info[\"colors\"] = colors\n",
    "plot_info[\"labels\"] = labels"
   ]
  },
  {
   "cell_type": "markdown",
   "id": "15a7e05e-427e-45b5-8de2-e442472b5806",
   "metadata": {},
   "source": [
    "Plots as a function of the lead time"
   ]
  },
  {
   "cell_type": "code",
   "execution_count": null,
   "id": "8e0d90e3-39e8-4f4d-9910-fd7d8bfe7ee7",
   "metadata": {},
   "outputs": [],
   "source": [
    "plot_scores(CT,\"FBI\",plot_info,along=\"step\",x_list=[0,2,6,8],bootstrap=False)"
   ]
  },
  {
   "cell_type": "code",
   "execution_count": null,
   "id": "020bec31-244d-4168-9048-39af72eb10ba",
   "metadata": {},
   "outputs": [],
   "source": [
    "plot_scores(CT,\"ETS\",plot_info,along=\"step\",x_list=[2,6,8],bootstrap=True)"
   ]
  },
  {
   "cell_type": "code",
   "execution_count": null,
   "id": "32034bbf-26ef-40c4-a549-aefb03d80bdd",
   "metadata": {},
   "outputs": [],
   "source": [
    "#plot_scores(CT,\"ETS difference\",plot_info,along=\"step\",x_list=[0,2,6,8])"
   ]
  },
  {
   "cell_type": "code",
   "execution_count": null,
   "id": "875cf5fe-f44c-4130-839a-e8348124fddf",
   "metadata": {},
   "outputs": [],
   "source": [
    "#plot_scores(CT,\"ETS relative gain\",plot_info,along=\"step\",x_list=[0,2,6,8])"
   ]
  },
  {
   "cell_type": "code",
   "execution_count": null,
   "id": "75decaed-3c2e-4586-b314-79ad8893cc05",
   "metadata": {},
   "outputs": [],
   "source": [
    "plot_scores(CT,\"PSS\",plot_info,along=\"step\",x_list=[0,2,6,8])"
   ]
  },
  {
   "cell_type": "code",
   "execution_count": null,
   "id": "7506eef5-9a14-4fd5-90f3-7b698ca824e7",
   "metadata": {},
   "outputs": [],
   "source": [
    "#plot_scores(CT,\"PSS difference\",plot_info,along=\"step\",x_list=[0,2,6,8])"
   ]
  },
  {
   "cell_type": "markdown",
   "id": "9c5488d5-d3f8-405b-bce8-8c46fc02eeb4",
   "metadata": {},
   "source": [
    "Plots as a function of the threshold"
   ]
  },
  {
   "cell_type": "code",
   "execution_count": null,
   "id": "edf6fb9b-c232-49e1-a441-95386fc36c61",
   "metadata": {},
   "outputs": [],
   "source": [
    "plot_scores(CT,\"FBI\",plot_info,along=\"thresholds\",x_list=[0,2,4],bootstrap=False)"
   ]
  },
  {
   "cell_type": "code",
   "execution_count": null,
   "id": "db5bf519-b9e8-456d-8703-58a4d9cb6676",
   "metadata": {},
   "outputs": [],
   "source": [
    "plot_scores(CT,\"ETS\",plot_info,along=\"thresholds\",x_list=[0,2,3,4],bootstrap=False)"
   ]
  },
  {
   "cell_type": "code",
   "execution_count": null,
   "id": "add1a996-b01c-4c5d-8eea-fd6b1377f852",
   "metadata": {},
   "outputs": [],
   "source": [
    "#plot_scores(CT,\"ETS difference\",plot_info,along=\"thresholds\",x_list=[0,2,4])"
   ]
  },
  {
   "cell_type": "code",
   "execution_count": null,
   "id": "d8c48412-6c72-4ce6-9a38-f9bff79dd2a6",
   "metadata": {},
   "outputs": [],
   "source": [
    "#plot_scores(CT,\"ETS skill\",plot_info,along=\"thresholds\",x_list=[0,2,4])"
   ]
  },
  {
   "cell_type": "code",
   "execution_count": null,
   "id": "ffad3a09-988f-4a3c-a99f-7ed770f2714c",
   "metadata": {},
   "outputs": [],
   "source": [
    "#plot_scores(CT,\"ETS relative gain\",plot_info,along=\"thresholds\",x_list=[0,2,4])"
   ]
  },
  {
   "cell_type": "code",
   "execution_count": null,
   "id": "56272670-9b73-456d-b4b4-cf4c24847e43",
   "metadata": {},
   "outputs": [],
   "source": [
    "plot_scores(CT,\"PSS\",plot_info,along=\"thresholds\",x_list=[0,2,4])"
   ]
  },
  {
   "cell_type": "code",
   "execution_count": null,
   "id": "519bc3b5-b84e-436b-a882-dbdf4d55f6c0",
   "metadata": {},
   "outputs": [],
   "source": [
    "#plot_scores(CT,\"PSS difference\",plot_info,along=\"thresholds\",x_list=[0,2,4])"
   ]
  },
  {
   "cell_type": "code",
   "execution_count": null,
   "id": "7b2ba16c-1c4b-438f-97e5-de46b81019cc",
   "metadata": {},
   "outputs": [],
   "source": [
    "#plot_scores(CT,\"PSS relative gain\",plot_info,along=\"thresholds\",x_list=[0,2,4])"
   ]
  },
  {
   "cell_type": "markdown",
   "id": "41881866-c041-4e54-9acf-474a1e048506",
   "metadata": {},
   "source": [
    "End of the Notebook"
   ]
  },
  {
   "cell_type": "code",
   "execution_count": null,
   "id": "25048f5f-817e-40e8-ac13-86aa4406cb46",
   "metadata": {},
   "outputs": [],
   "source": []
  }
 ],
 "metadata": {
  "kernelspec": {
   "display_name": "Python 3.12.9-01",
   "language": "python",
   "name": "python3"
  },
  "language_info": {
   "codemirror_mode": {
    "name": "ipython",
    "version": 3
   },
   "file_extension": ".py",
   "mimetype": "text/x-python",
   "name": "python",
   "nbconvert_exporter": "python",
   "pygments_lexer": "ipython3",
   "version": "3.12.9"
  }
 },
 "nbformat": 4,
 "nbformat_minor": 5
}
