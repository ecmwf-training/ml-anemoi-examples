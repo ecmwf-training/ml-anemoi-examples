{
 "cells": [
  {
   "cell_type": "code",
   "execution_count": 1,
   "id": "86ac5acf-92fa-453a-a2db-62592f55a92b",
   "metadata": {},
   "outputs": [],
   "source": [
    "import xarray as xr\n",
    "import pandas as pd\n",
    "import numpy as np\n",
    "import matplotlib.pyplot as plt"
   ]
  },
  {
   "cell_type": "code",
   "execution_count": 4,
   "id": "4d20e0d4-a747-4ad6-ac05-43a882d15846",
   "metadata": {},
   "outputs": [
    {
     "name": "stderr",
     "output_type": "stream",
     "text": [
      "/p/software/default/stages/2025/software/xarray/2024.11.0-gcccoreflexiblas-13.3.0-3.4.4/lib/python3.12/site-packages/xarray/coding/times.py:1005: SerializationWarning: Unable to decode time axis into full numpy.datetime64 objects, continuing using cftime.datetime objects instead, reason: dates out of range\n",
      "  dtype = _decode_cf_datetime_dtype(data, units, calendar, self.use_cftime)\n",
      "/p/software/default/stages/2025/software/xarray/2024.11.0-gcccoreflexiblas-13.3.0-3.4.4/lib/python3.12/site-packages/xarray/core/indexing.py:516: SerializationWarning: Unable to decode time axis into full numpy.datetime64 objects, continuing using cftime.datetime objects instead, reason: dates out of range\n",
      "  return np.asarray(self.get_duck_array(), dtype=dtype)\n"
     ]
    }
   ],
   "source": [
    "# Define climatology and sst files\n",
    "\n",
    "file_clim = '/p/project1/training2533/datasets/era5_climatology/era5_sfc_climatology_1deg.nc'\n",
    "file_real = '/p/project1/training2533/zampieri2/data/example_enso/era5_fields_2010-2013_1deg.nc'\n",
    "\n",
    "ds_clim = xr.open_dataset(file_clim)\n",
    "ds_real = xr.open_dataset(file_real)"
   ]
  },
  {
   "cell_type": "code",
   "execution_count": 5,
   "id": "6dd9c33c-3e6c-4776-83cc-b7146e8dbd14",
   "metadata": {},
   "outputs": [
    {
     "name": "stdout",
     "output_type": "stream",
     "text": [
      "<xarray.Dataset> Size: 569MB\n",
      "Dimensions:  (time: 366, lon: 360, lat: 180)\n",
      "Coordinates:\n",
      "  * time     (time) object 3kB -25527-01-01 00:00:00 ... -25527-12-31 00:00:00\n",
      "  * lon      (lon) float64 3kB 0.0 1.0 2.0 3.0 4.0 ... 356.0 357.0 358.0 359.0\n",
      "  * lat      (lat) float64 1kB -89.5 -88.5 -87.5 -86.5 ... 86.5 87.5 88.5 89.5\n",
      "Data variables:\n",
      "    var31    (time, lat, lon) float32 95MB ...\n",
      "    var34    (time, lat, lon) float32 95MB ...\n",
      "    var165   (time, lat, lon) float32 95MB ...\n",
      "    var166   (time, lat, lon) float32 95MB ...\n",
      "    var167   (time, lat, lon) float32 95MB ...\n",
      "    var207   (time, lat, lon) float32 95MB ...\n",
      "Attributes:\n",
      "    CDI:          Climate Data Interface version 2.4.4 (https://mpimet.mpg.de...\n",
      "    Conventions:  CF-1.6\n",
      "    institution:  European Centre for Medium-Range Weather Forecasts\n",
      "    history:      Fri Aug 22 16:24:51 2025: cdo -f nc4 -remapdis,r360x180 -se...\n",
      "    CDO:          Climate Data Operators version 2.4.4 (https://mpimet.mpg.de...\n",
      "<xarray.Dataset> Size: 379MB\n",
      "Dimensions:  (time: 1461, lon: 360, lat: 180)\n",
      "Coordinates:\n",
      "  * time     (time) datetime64[ns] 12kB 2010-01-01 2010-01-02 ... 2013-12-31\n",
      "  * lon      (lon) float64 3kB 0.0 1.0 2.0 3.0 4.0 ... 356.0 357.0 358.0 359.0\n",
      "  * lat      (lat) float64 1kB -89.5 -88.5 -87.5 -86.5 ... 86.5 87.5 88.5 89.5\n",
      "Data variables:\n",
      "    var34    (time, lat, lon) float32 379MB ...\n",
      "Attributes:\n",
      "    CDI:          Climate Data Interface version 2.4.4 (https://mpimet.mpg.de...\n",
      "    Conventions:  CF-1.6\n",
      "    institution:  European Centre for Medium-Range Weather Forecasts\n",
      "    history:      Fri Aug 22 16:26:13 2025: cdo -f nc4 -remapdis,r360x180 -se...\n",
      "    CDO:          Climate Data Operators version 2.4.4 (https://mpimet.mpg.de...\n"
     ]
    }
   ],
   "source": [
    "print(ds_clim)\n",
    "print(ds_real)"
   ]
  },
  {
   "cell_type": "code",
   "execution_count": 9,
   "id": "1d936080-15e0-46ec-96c9-e6c8d7549e2a",
   "metadata": {},
   "outputs": [
    {
     "name": "stdout",
     "output_type": "stream",
     "text": [
      "            nino34_monthly  nino34_3mo\n",
      "time                                  \n",
      "2011-01-01       -1.693282         NaN\n",
      "2011-02-01       -1.207254   -1.305232\n",
      "2011-03-01       -1.015161   -0.962079\n",
      "2011-04-01       -0.663821   -0.711862\n",
      "2011-05-01       -0.456603   -0.478725\n",
      "2011-06-01       -0.315751   -0.396849\n",
      "2011-07-01       -0.418192   -0.484423\n",
      "2011-08-01       -0.719325   -0.640911\n",
      "2011-09-01       -0.785216   -0.845373\n",
      "2011-10-01       -1.031579   -1.030585\n",
      "2011-11-01       -1.274959   -1.132185\n",
      "2011-12-01       -1.090017   -1.146266\n",
      "2012-01-01       -1.073821   -0.971754\n",
      "2012-02-01       -0.751422   -0.813999\n",
      "2012-03-01       -0.616754   -0.588702\n",
      "2012-04-01       -0.397929   -0.398133\n",
      "2012-05-01       -0.179717   -0.138297\n",
      "2012-06-01        0.162754    0.117079\n",
      "2012-07-01        0.368200    0.401885\n",
      "2012-08-01        0.674701    0.490233\n",
      "2012-09-01        0.427797    0.445431\n",
      "2012-10-01        0.233794    0.284517\n",
      "2012-11-01        0.191959    0.086996\n",
      "2012-12-01       -0.164766         NaN\n"
     ]
    }
   ],
   "source": [
    "# --------------------\n",
    "# INPUTS (rename to match your variables)\n",
    "#   ds_clim: 366-day daily climatology dataset (your first dataset, var34)\n",
    "#   ds_real: real daily SST dataset with real dates (your second dataset, var34)\n",
    "\n",
    "# Use 'sst' as a consistent variable name\n",
    "if 'sst' not in ds_clim:\n",
    "    ds_clim = ds_clim.rename({'var34': 'sst'})\n",
    "if 'sst' not in ds_real:\n",
    "    ds_real = ds_real.rename({'var34': 'sst'})\n",
    "    \n",
    "# --------------------\n",
    "# CONFIG\n",
    "# --------------------\n",
    "start_year = 2011          # inclusive\n",
    "end_year   = 2012          # inclusive\n",
    "lat_bounds = (-5, 5)       # Niño 3.4 box lat\n",
    "# Niño 3.4 longitudes: 170°W–120°W\n",
    "# If lon is 0..359, that's 190..240E; if lon is -180..180, that's -170..-120\n",
    "lon_bounds_east = (190, 240)\n",
    "# lon_bounds_west = (-170, -120)\n",
    "\n",
    "# --------------------\n",
    "# PREP: drop Feb-29 so we have a 365-day DoY in both datasets\n",
    "# --------------------\n",
    "is_feb29 = lambda t: (t.dt.month == 2) & (t.dt.day == 29)\n",
    "\n",
    "# Climatology → drop Feb 29 and collapse to a 365-value Series keyed by dayofyear\n",
    "clim365 = ds_clim.sel(time=~is_feb29(ds_clim['time']))\n",
    "clim_doy = clim365['sst'].groupby('time.dayofyear').first()  # length 365 (DoY = 1..365)\n",
    "\n",
    "# Real data → select analysis window and drop Feb 29\n",
    "dsr = ds_real.sel(time=slice(f'{start_year}-01-01', f'{end_year}-12-31'))\n",
    "dsr = dsr.sel(time=~is_feb29(dsr['time']))\n",
    "\n",
    "# --------------------\n",
    "# DAILY ANOMALIES ALIGNED BY DAY-OF-YEAR\n",
    "# --------------------\n",
    "# xarray aligns by the group key: subtracts the 365-element clim_doy from each day with matching DoY\n",
    "sst_anom = dsr['sst'].groupby('time.dayofyear') - clim_doy\n",
    "\n",
    "# --------------------\n",
    "# SELECT NIÑO 3.4 REGION AND AREA-WEIGHTED MEAN\n",
    "# --------------------\n",
    "# Latitude slice\n",
    "sst_anom_lat = sst_anom.sel(lat=slice(lat_bounds[0], lat_bounds[1]))\n",
    "\n",
    "# Longitude slice depending on grid\n",
    "if float(sst_anom_lat['lon'].max()) > 180:\n",
    "    # 0..360 grid\n",
    "    sst_box = sst_anom_lat.sel(lon=slice(lon_bounds_east[0], lon_bounds_east[1]))\n",
    "else:\n",
    "    # -180..180 grid\n",
    "    sst_box = sst_anom_lat.sel(lon=slice(lon_bounds_west[0], lon_bounds_west[1]))\n",
    "\n",
    "# Cosine-latitude weights\n",
    "weights = np.cos(np.deg2rad(sst_box['lat']))\n",
    "n34_daily = sst_box.weighted(weights).mean(dim=('lat', 'lon'))  # DataArray (time)\n",
    "\n",
    "# --------------------\n",
    "# MONTHLY MEANS + 3-MONTH CENTERED MEAN (ONI-STYLE)\n",
    "# --------------------\n",
    "n34_monthly = n34_daily.resample(time='MS').mean()                 # monthly anomaly (°C)\n",
    "n34_3mo     = n34_monthly.rolling(time=3, center=True).mean()      # 3-month centered mean\n",
    "\n",
    "# --------------------\n",
    "# Tidy outputs (optional)\n",
    "# --------------------\n",
    "n34_df = xr.Dataset(\n",
    "    {\n",
    "        'nino34_monthly': n34_monthly,\n",
    "        'nino34_3mo': n34_3mo\n",
    "    }\n",
    ").to_dataframe()\n",
    "print(n34_df)\n",
    "\n",
    "# Example: write CSV\n",
    "# n34_df.to_csv('nino34_2011_2012.csv')  # uncomment to save"
   ]
  },
  {
   "cell_type": "code",
   "execution_count": 12,
   "id": "1b600190-237f-45db-99a7-38e74f7872af",
   "metadata": {},
   "outputs": [
    {
     "name": "stdout",
     "output_type": "stream",
     "text": [
      "Saved plot to nino34_2011_2012.png\n"
     ]
    }
   ],
   "source": [
    "# --- robust plotting that works in headless/HPC and notebooks ---\n",
    "import matplotlib\n",
    "import matplotlib.pyplot as plt\n",
    "\n",
    "# Force a non-interactive backend (safe on clusters/headless)\n",
    "# If you're in Jupyter it'll still save the PNG; showing inline depends on the kernel.\n",
    "matplotlib.use(\"Agg\", force=True)\n",
    "\n",
    "fig, ax = plt.subplots(figsize=(10, 4))\n",
    "ax.plot(n34_monthly['time'].values, n34_monthly.values,\n",
    "        label='Monthly Niño 3.4 anomaly (°C)', linewidth=1.5, alpha=0.85)\n",
    "ax.plot(n34_3mo['time'].values, n34_3mo.values,\n",
    "        label='3-mo centered mean', linewidth=2)\n",
    "ax.axhline(0, linewidth=0.8)\n",
    "ax.set_title('Niño 3.4 SST anomaly — 2011–2012')\n",
    "ax.set_xlabel('Time'); ax.set_ylabel('°C'); ax.legend()\n",
    "fig.tight_layout()\n",
    "\n",
    "# Always save to file (reliable everywhere)\n",
    "out_png = 'nino34_2011_2012.png'\n",
    "fig.savefig(out_png, dpi=150, bbox_inches='tight')\n",
    "print(f\"Saved plot to {out_png}\")"
   ]
  },
  {
   "cell_type": "code",
   "execution_count": null,
   "id": "15e72892-8477-4116-aac2-9fd177d02459",
   "metadata": {},
   "outputs": [],
   "source": []
  }
 ],
 "metadata": {
  "kernelspec": {
   "display_name": "anemoi-25.08",
   "language": "python",
   "name": "anemoi-25.08"
  },
  "language_info": {
   "codemirror_mode": {
    "name": "ipython",
    "version": 3
   },
   "file_extension": ".py",
   "mimetype": "text/x-python",
   "name": "python",
   "nbconvert_exporter": "python",
   "pygments_lexer": "ipython3",
   "version": "3.12.3"
  }
 },
 "nbformat": 4,
 "nbformat_minor": 5
}
